{
 "cells": [
  {
   "cell_type": "markdown",
   "metadata": {},
   "source": [
    "### Load and format gun deaths data"
   ]
  },
  {
   "cell_type": "code",
   "execution_count": 9,
   "metadata": {},
   "outputs": [
    {
     "name": "stdout",
     "output_type": "stream",
     "text": [
      "[['', 'year', 'month', 'intent', 'police', 'sex', 'age', 'race', 'hispanic', 'place', 'education'], ['1', '2012', '01', 'Suicide', '0', 'M', '34', 'Asian/Pacific Islander', '100', 'Home', '4'], ['2', '2012', '01', 'Suicide', '0', 'F', '21', 'White', '100', 'Street', '3'], ['3', '2012', '01', 'Suicide', '0', 'M', '60', 'White', '100', 'Other specified', '4']]\n"
     ]
    }
   ],
   "source": [
    "import csv\n",
    "import pprint\n",
    "\n",
    "# Load crime data\n",
    "crimes = list(csv.reader(open(\"data/guns.csv\", \"r\")))\n",
    "\n",
    "print(crimes[:4])"
   ]
  },
  {
   "cell_type": "code",
   "execution_count": 10,
   "metadata": {},
   "outputs": [
    {
     "name": "stdout",
     "output_type": "stream",
     "text": [
      "[['1', '2012', '01', 'Suicide', '0', 'M', '34', 'Asian/Pacific Islander', '100', 'Home', '4'], ['2', '2012', '01', 'Suicide', '0', 'F', '21', 'White', '100', 'Street', '3'], ['3', '2012', '01', 'Suicide', '0', 'M', '60', 'White', '100', 'Other specified', '4'], ['4', '2012', '02', 'Suicide', '0', 'M', '64', 'White', '100', 'Home', '4']]\n"
     ]
    }
   ],
   "source": [
    "# Remove header\n",
    "crimes = crimes[1:]\n",
    "\n",
    "print(crimes[:4])"
   ]
  },
  {
   "cell_type": "markdown",
   "metadata": {},
   "source": [
    "### Gun deaths by year"
   ]
  },
  {
   "cell_type": "code",
   "execution_count": 11,
   "metadata": {},
   "outputs": [
    {
     "name": "stdout",
     "output_type": "stream",
     "text": [
      "{'2012': 33563, '2013': 33636, '2014': 33599}\n"
     ]
    }
   ],
   "source": [
    "# Group gun deaths by year\n",
    "year_counts = {}\n",
    "for crime in crimes:\n",
    "    year = crime[1]    \n",
    "    if year in year_counts:\n",
    "        year_counts[year] += 1\n",
    "    else:\n",
    "        year_counts[year] = 1\n",
    "\n",
    "print(year_counts)"
   ]
  },
  {
   "cell_type": "markdown",
   "metadata": {},
   "source": [
    "### Gun deaths by date"
   ]
  },
  {
   "cell_type": "code",
   "execution_count": 12,
   "metadata": {},
   "outputs": [
    {
     "name": "stdout",
     "output_type": "stream",
     "text": [
      "{datetime.datetime(2014, 7, 1, 0, 0): 2884, datetime.datetime(2014, 9, 1, 0, 0): 2914, datetime.datetime(2014, 12, 1, 0, 0): 2857, datetime.datetime(2014, 2, 1, 0, 0): 2361, datetime.datetime(2014, 1, 1, 0, 0): 2651, datetime.datetime(2012, 6, 1, 0, 0): 2826, datetime.datetime(2012, 5, 1, 0, 0): 2999, datetime.datetime(2012, 4, 1, 0, 0): 2795, datetime.datetime(2012, 8, 1, 0, 0): 2954, datetime.datetime(2013, 11, 1, 0, 0): 2758, datetime.datetime(2014, 10, 1, 0, 0): 2865, datetime.datetime(2013, 2, 1, 0, 0): 2375, datetime.datetime(2012, 3, 1, 0, 0): 2743, datetime.datetime(2014, 11, 1, 0, 0): 2756, datetime.datetime(2014, 6, 1, 0, 0): 2931, datetime.datetime(2013, 12, 1, 0, 0): 2765, datetime.datetime(2014, 8, 1, 0, 0): 2970, datetime.datetime(2013, 5, 1, 0, 0): 2806, datetime.datetime(2013, 8, 1, 0, 0): 2859, datetime.datetime(2012, 7, 1, 0, 0): 3026, datetime.datetime(2012, 12, 1, 0, 0): 2791, datetime.datetime(2012, 1, 1, 0, 0): 2758, datetime.datetime(2012, 11, 1, 0, 0): 2729, datetime.datetime(2013, 4, 1, 0, 0): 2798, datetime.datetime(2014, 5, 1, 0, 0): 2864, datetime.datetime(2013, 3, 1, 0, 0): 2862, datetime.datetime(2014, 3, 1, 0, 0): 2684, datetime.datetime(2013, 1, 1, 0, 0): 2864, datetime.datetime(2014, 4, 1, 0, 0): 2862, datetime.datetime(2013, 7, 1, 0, 0): 3079, datetime.datetime(2012, 10, 1, 0, 0): 2733, datetime.datetime(2013, 10, 1, 0, 0): 2808, datetime.datetime(2013, 9, 1, 0, 0): 2742, datetime.datetime(2012, 9, 1, 0, 0): 2852, datetime.datetime(2013, 6, 1, 0, 0): 2920, datetime.datetime(2012, 2, 1, 0, 0): 2357}\n"
     ]
    }
   ],
   "source": [
    "import datetime\n",
    "\n",
    "# Group gun deaths by date (day fixed to 1)\n",
    "date_counts = {}\n",
    "for crime in crimes:\n",
    "    try:\n",
    "        date = datetime.datetime(year=int(crime[1]), month=int(crime[2]), day=1)\n",
    "        if date in date_counts:\n",
    "            date_counts[date] += 1\n",
    "        else:\n",
    "            date_counts[date] = 1\n",
    "    except Exception:\n",
    "        pass\n",
    "\n",
    "print(date_counts)"
   ]
  },
  {
   "cell_type": "markdown",
   "metadata": {},
   "source": [
    "### Sex and Race"
   ]
  },
  {
   "cell_type": "code",
   "execution_count": 13,
   "metadata": {},
   "outputs": [
    {
     "name": "stdout",
     "output_type": "stream",
     "text": [
      "{'F': 14449, 'M': 86349}\n",
      "{'Native American/Native Alaskan': 917, 'Asian/Pacific Islander': 1326, 'White': 66237, 'Black': 23296, 'Hispanic': 9022}\n"
     ]
    }
   ],
   "source": [
    "sex_counts = {}\n",
    "race_counts = {}\n",
    "homicide_race_count = {}\n",
    "\n",
    "for crime in crimes:\n",
    "    sex = crime[5]\n",
    "    race = crime[7]\n",
    "    intent = crime[3]\n",
    "    \n",
    "    if sex in sex_counts:\n",
    "        sex_counts[sex] += 1\n",
    "    else:\n",
    "        sex_counts[sex] = 1\n",
    "        \n",
    "    if race in race_counts:\n",
    "        race_counts[race] += 1\n",
    "    else:\n",
    "        race_counts[race] = 1\n",
    "        \n",
    "    if intent == \"Homicide\": \n",
    "        if race in homicide_race_count:\n",
    "            homicide_race_count[race] += 1\n",
    "        else:\n",
    "            homicide_race_count[race] = 1\n",
    "        \n",
    "print(sex_counts)\n",
    "print(race_counts)"
   ]
  },
  {
   "cell_type": "markdown",
   "metadata": {},
   "source": [
    "### Load and format sensus deaths data"
   ]
  },
  {
   "cell_type": "code",
   "execution_count": 14,
   "metadata": {},
   "outputs": [
    {
     "name": "stdout",
     "output_type": "stream",
     "text": [
      "[['Id', 'Year', 'Id', 'Sex', 'Id', 'Hispanic Origin', 'Id', 'Id2', 'Geography', 'Total', 'Race Alone - White', 'Race Alone - Hispanic', 'Race Alone - Black or African American', 'Race Alone - American Indian and Alaska Native', 'Race Alone - Asian', 'Race Alone - Native Hawaiian and Other Pacific Islander', 'Two or More Races'], ['cen42010', 'April 1, 2010 Census', 'totsex', 'Both Sexes', 'tothisp', 'Total', '0100000US', '', 'United States', '308745538', '197318956', '44618105', '40250635', '3739506', '15159516', '674625', '6984195']]\n"
     ]
    }
   ],
   "source": [
    "import csv\n",
    "import pprint\n",
    "\n",
    "# Load crime data\n",
    "populations = list(csv.reader(open(\"data/census.csv\", \"r\")))\n",
    "\n",
    "print(populations[:4])"
   ]
  },
  {
   "cell_type": "code",
   "execution_count": 15,
   "metadata": {},
   "outputs": [
    {
     "name": "stdout",
     "output_type": "stream",
     "text": [
      "['cen42010', 'April 1, 2010 Census', 'totsex', 'Both Sexes', 'tothisp', 'Total', '0100000US', '', 'United States', '308745538', '197318956', '44618105', '40250635', '3739506', '15159516', '674625', '6984195']\n"
     ]
    }
   ],
   "source": [
    "# Remove header\n",
    "populations = populations[1]\n",
    "\n",
    "print(populations)"
   ]
  },
  {
   "cell_type": "code",
   "execution_count": 16,
   "metadata": {},
   "outputs": [
    {
     "name": "stdout",
     "output_type": "stream",
     "text": [
      "{'Hispanic': 44618105, 'Asian/Pacific Islander': 15834141, 'White': 197318956, 'Black': 40250635, 'Native American/Native Alaskan': 3739506}\n"
     ]
    }
   ],
   "source": [
    "# Map the total population by race\n",
    "mapping = {\n",
    "    'Hispanic': int(populations[11]),\n",
    "    'White': int(populations[10]),\n",
    "    'Asian/Pacific Islander': int(populations[14]) + int(populations[15]),\n",
    "    'Native American/Native Alaskan': int(populations[13]),\n",
    "    'Black': int(populations[12])\n",
    "}\n",
    "print(mapping)"
   ]
  },
  {
   "cell_type": "markdown",
   "metadata": {},
   "source": [
    "### Gun deaths per 10000 people for each racial category"
   ]
  },
  {
   "cell_type": "code",
   "execution_count": 17,
   "metadata": {},
   "outputs": [
    {
     "name": "stdout",
     "output_type": "stream",
     "text": [
      "{'Native American/Native Alaskan': 24.521955573811088, 'Asian/Pacific Islander': 8.374309664161762, 'White': 33.56849303419181, 'Black': 57.8773477735196, 'Hispanic': 20.220491210910907}\n"
     ]
    }
   ],
   "source": [
    "race_per_hundredk = {}\n",
    "\n",
    "for race in race_counts:\n",
    "    if race in mapping:\n",
    "        proportion = race_counts[race] / mapping[race]\n",
    "        race_per_hundredk[race] = proportion * 100000 # propotion by 10000 habitants\n",
    "    \n",
    "print(race_per_hundredk)"
   ]
  },
  {
   "cell_type": "markdown",
   "metadata": {},
   "source": [
    "### Homicide gun deaths per 10000 people for each racial category"
   ]
  },
  {
   "cell_type": "code",
   "execution_count": 18,
   "metadata": {},
   "outputs": [
    {
     "name": "stdout",
     "output_type": "stream",
     "text": [
      "{'Native American/Native Alaskan': 8.717729026240365, 'Asian/Pacific Islander': 3.530346230970155, 'White': 4.6356417981453335, 'Black': 48.471284987180944, 'Hispanic': 12.627161104219914}\n"
     ]
    }
   ],
   "source": [
    "homicide_race_per_hundredk = {}\n",
    "\n",
    "for race in homicide_race_count:\n",
    "    if race in mapping:\n",
    "        proportion = homicide_race_count[race] / mapping[race]\n",
    "        homicide_race_per_hundredk[race] = proportion * 100000 # propotion by 10000 habitants\n",
    "    \n",
    "print(homicide_race_per_hundredk)"
   ]
  }
 ],
 "metadata": {
  "kernelspec": {
   "display_name": "Python 3",
   "language": "python",
   "name": "python3"
  },
  "language_info": {
   "codemirror_mode": {
    "name": "ipython",
    "version": 3
   },
   "file_extension": ".py",
   "mimetype": "text/x-python",
   "name": "python",
   "nbconvert_exporter": "python",
   "pygments_lexer": "ipython3",
   "version": "3.5.2"
  }
 },
 "nbformat": 4,
 "nbformat_minor": 1
}
